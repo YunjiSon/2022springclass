{
  "nbformat": 4,
  "nbformat_minor": 0,
  "metadata": {
    "colab": {
      "name": "3.23.ipynb",
      "provenance": [],
      "authorship_tag": "ABX9TyPsF4WV2+zIr7+Q1sAftHpu",
      "include_colab_link": true
    },
    "kernelspec": {
      "name": "python3",
      "display_name": "Python 3"
    },
    "language_info": {
      "name": "python"
    }
  },
  "cells": [
    {
      "cell_type": "markdown",
      "metadata": {
        "id": "view-in-github",
        "colab_type": "text"
      },
      "source": [
        "<a href=\"https://colab.research.google.com/github/YunjiSon/2022springclass/blob/main/3_23.ipynb\" target=\"_parent\"><img src=\"https://colab.research.google.com/assets/colab-badge.svg\" alt=\"Open In Colab\"/></a>"
      ]
    },
    {
      "cell_type": "markdown",
      "source": [
        "API: 개발자가 만들어놓은 프로그램을 가져오는 인터페이스.\n",
        "미세먼지 데이터 이런거가 다 공공 API에 들어있는 것.\n",
        "API를 어떻게 당겨오나?\n",
        "라이브러리를 당겨와야지 이걸 request 한다고 함.\n",
        "그냥 인터넷에 공공데이터 api 라고 치면 됨.\n",
        "네이버 오픈 API도 유명함"
      ],
      "metadata": {
        "id": "gZ2oURSIzRHN"
      }
    },
    {
      "cell_type": "code",
      "source": [
        "#!pip install gradio\n",
        "#import gradio as gr\n",
        "import requests\n"
      ],
      "metadata": {
        "id": "Pkyf2kmH0BHr"
      },
      "execution_count": 1,
      "outputs": []
    },
    {
      "cell_type": "code",
      "source": [
        "request.get()"
      ],
      "metadata": {
        "id": "dqm32kCz3609"
      },
      "execution_count": null,
      "outputs": []
    },
    {
      "cell_type": "markdown",
      "source": [
        "response 밑에, body 밑에, item있고 막 쭈우욱 있음."
      ],
      "metadata": {
        "id": "53odU3R87gMt"
      }
    },
    {
      "cell_type": "markdown",
      "source": [
        ""
      ],
      "metadata": {
        "id": "fmyLUL5CBW32"
      }
    }
  ]
}